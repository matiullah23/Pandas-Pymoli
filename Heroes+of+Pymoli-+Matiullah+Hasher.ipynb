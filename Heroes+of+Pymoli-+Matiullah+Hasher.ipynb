{
 "cells": [
  {
   "cell_type": "code",
   "execution_count": 408,
   "metadata": {
    "collapsed": true
   },
   "outputs": [],
   "source": [
    "# Dependencies\n",
    "import pandas as pd"
   ]
  },
  {
   "cell_type": "code",
   "execution_count": 409,
   "metadata": {
    "collapsed": true
   },
   "outputs": [],
   "source": [
    "# Save path to data set in a variable\n",
    "data_file = \"purchase_data.json\""
   ]
  },
  {
   "cell_type": "code",
   "execution_count": 410,
   "metadata": {},
   "outputs": [
    {
     "data": {
      "text/html": [
       "<div>\n",
       "<style>\n",
       "    .dataframe thead tr:only-child th {\n",
       "        text-align: right;\n",
       "    }\n",
       "\n",
       "    .dataframe thead th {\n",
       "        text-align: left;\n",
       "    }\n",
       "\n",
       "    .dataframe tbody tr th {\n",
       "        vertical-align: top;\n",
       "    }\n",
       "</style>\n",
       "<table border=\"1\" class=\"dataframe\">\n",
       "  <thead>\n",
       "    <tr style=\"text-align: right;\">\n",
       "      <th></th>\n",
       "      <th>Age</th>\n",
       "      <th>Gender</th>\n",
       "      <th>Item ID</th>\n",
       "      <th>Item Name</th>\n",
       "      <th>Price</th>\n",
       "      <th>SN</th>\n",
       "    </tr>\n",
       "  </thead>\n",
       "  <tbody>\n",
       "    <tr>\n",
       "      <th>0</th>\n",
       "      <td>38</td>\n",
       "      <td>Male</td>\n",
       "      <td>165</td>\n",
       "      <td>Bone Crushing Silver Skewer</td>\n",
       "      <td>3.37</td>\n",
       "      <td>Aelalis34</td>\n",
       "    </tr>\n",
       "    <tr>\n",
       "      <th>1</th>\n",
       "      <td>21</td>\n",
       "      <td>Male</td>\n",
       "      <td>119</td>\n",
       "      <td>Stormbringer, Dark Blade of Ending Misery</td>\n",
       "      <td>2.32</td>\n",
       "      <td>Eolo46</td>\n",
       "    </tr>\n",
       "    <tr>\n",
       "      <th>2</th>\n",
       "      <td>34</td>\n",
       "      <td>Male</td>\n",
       "      <td>174</td>\n",
       "      <td>Primitive Blade</td>\n",
       "      <td>2.46</td>\n",
       "      <td>Assastnya25</td>\n",
       "    </tr>\n",
       "    <tr>\n",
       "      <th>3</th>\n",
       "      <td>21</td>\n",
       "      <td>Male</td>\n",
       "      <td>92</td>\n",
       "      <td>Final Critic</td>\n",
       "      <td>1.36</td>\n",
       "      <td>Pheusrical25</td>\n",
       "    </tr>\n",
       "    <tr>\n",
       "      <th>4</th>\n",
       "      <td>23</td>\n",
       "      <td>Male</td>\n",
       "      <td>63</td>\n",
       "      <td>Stormfury Mace</td>\n",
       "      <td>1.27</td>\n",
       "      <td>Aela59</td>\n",
       "    </tr>\n",
       "  </tbody>\n",
       "</table>\n",
       "</div>"
      ],
      "text/plain": [
       "   Age Gender  Item ID                                  Item Name  Price  \\\n",
       "0   38   Male      165                Bone Crushing Silver Skewer   3.37   \n",
       "1   21   Male      119  Stormbringer, Dark Blade of Ending Misery   2.32   \n",
       "2   34   Male      174                            Primitive Blade   2.46   \n",
       "3   21   Male       92                               Final Critic   1.36   \n",
       "4   23   Male       63                             Stormfury Mace   1.27   \n",
       "\n",
       "             SN  \n",
       "0     Aelalis34  \n",
       "1        Eolo46  \n",
       "2   Assastnya25  \n",
       "3  Pheusrical25  \n",
       "4        Aela59  "
      ]
     },
     "execution_count": 410,
     "metadata": {},
     "output_type": "execute_result"
    }
   ],
   "source": [
    "# Use Pandas to read data\n",
    "df = pd.read_json(data_file)\n",
    "df.head()"
   ]
  },
  {
   "cell_type": "code",
   "execution_count": 411,
   "metadata": {},
   "outputs": [],
   "source": [
    "# Find total numbers of players\n",
    "player_count = len(df['SN'].unique())"
   ]
  },
  {
   "cell_type": "code",
   "execution_count": 412,
   "metadata": {},
   "outputs": [
    {
     "data": {
      "text/html": [
       "<div>\n",
       "<style>\n",
       "    .dataframe thead tr:only-child th {\n",
       "        text-align: right;\n",
       "    }\n",
       "\n",
       "    .dataframe thead th {\n",
       "        text-align: left;\n",
       "    }\n",
       "\n",
       "    .dataframe tbody tr th {\n",
       "        vertical-align: top;\n",
       "    }\n",
       "</style>\n",
       "<table border=\"1\" class=\"dataframe\">\n",
       "  <thead>\n",
       "    <tr style=\"text-align: right;\">\n",
       "      <th></th>\n",
       "      <th>Player Count</th>\n",
       "    </tr>\n",
       "  </thead>\n",
       "  <tbody>\n",
       "    <tr>\n",
       "      <th>0</th>\n",
       "      <td>573</td>\n",
       "    </tr>\n",
       "  </tbody>\n",
       "</table>\n",
       "</div>"
      ],
      "text/plain": [
       "   Player Count\n",
       "0           573"
      ]
     },
     "execution_count": 412,
     "metadata": {},
     "output_type": "execute_result"
    }
   ],
   "source": [
    "# Create dataframe for player count\n",
    "player_count_df = pd.DataFrame({\"Player Count\":player_count}, index=[0])\n",
    "player_count_df"
   ]
  },
  {
   "cell_type": "code",
   "execution_count": 413,
   "metadata": {},
   "outputs": [],
   "source": [
    "# Find number of unique items, average purchase price, total number of purchases and total revenue\n",
    "uniqueitem_count = len(df['Item Name'].unique())\n",
    "average_purchase_price = df[\"Price\"].mean()\n",
    "total_purchases = df['Item Name'].count()\n",
    "total_revenue = df[\"Price\"].sum()\n",
    "\n"
   ]
  },
  {
   "cell_type": "code",
   "execution_count": 414,
   "metadata": {},
   "outputs": [
    {
     "data": {
      "text/html": [
       "<div>\n",
       "<style>\n",
       "    .dataframe thead tr:only-child th {\n",
       "        text-align: right;\n",
       "    }\n",
       "\n",
       "    .dataframe thead th {\n",
       "        text-align: left;\n",
       "    }\n",
       "\n",
       "    .dataframe tbody tr th {\n",
       "        vertical-align: top;\n",
       "    }\n",
       "</style>\n",
       "<table border=\"1\" class=\"dataframe\">\n",
       "  <thead>\n",
       "    <tr style=\"text-align: right;\">\n",
       "      <th></th>\n",
       "      <th>Average Price</th>\n",
       "      <th>Number of Purchases</th>\n",
       "      <th>Number of Unique Items</th>\n",
       "      <th>Total Revenue</th>\n",
       "    </tr>\n",
       "  </thead>\n",
       "  <tbody>\n",
       "    <tr>\n",
       "      <th>0</th>\n",
       "      <td>2.931192</td>\n",
       "      <td>780</td>\n",
       "      <td>179</td>\n",
       "      <td>2286.33</td>\n",
       "    </tr>\n",
       "  </tbody>\n",
       "</table>\n",
       "</div>"
      ],
      "text/plain": [
       "   Average Price  Number of Purchases  Number of Unique Items  Total Revenue\n",
       "0       2.931192                  780                     179        2286.33"
      ]
     },
     "execution_count": 414,
     "metadata": {},
     "output_type": "execute_result"
    }
   ],
   "source": [
    "# Create data frame for purchasing analysis\n",
    "purchasing_analysis_df = pd.DataFrame({\"Number of Unique Items\":uniqueitem_count, \"Average Price\":average_purchase_price, \"Number of Purchases\":total_purchases, \"Total Revenue\":total_revenue}, index=[0])\n",
    "purchasing_analysis_df.head()"
   ]
  },
  {
   "cell_type": "code",
   "execution_count": 415,
   "metadata": {
    "scrolled": true
   },
   "outputs": [],
   "source": [
    "#Find count of male, female, and other / non-disclosed players\n",
    "gender_count = df[\"Gender\"].value_counts()\n",
    "gender_percentage = df[\"Gender\"].value_counts(\"Male\")\n"
   ]
  },
  {
   "cell_type": "code",
   "execution_count": 416,
   "metadata": {
    "scrolled": true
   },
   "outputs": [
    {
     "data": {
      "text/html": [
       "<div>\n",
       "<style>\n",
       "    .dataframe thead tr:only-child th {\n",
       "        text-align: right;\n",
       "    }\n",
       "\n",
       "    .dataframe thead th {\n",
       "        text-align: left;\n",
       "    }\n",
       "\n",
       "    .dataframe tbody tr th {\n",
       "        vertical-align: top;\n",
       "    }\n",
       "</style>\n",
       "<table border=\"1\" class=\"dataframe\">\n",
       "  <thead>\n",
       "    <tr style=\"text-align: right;\">\n",
       "      <th></th>\n",
       "      <th>Percentage of Players</th>\n",
       "      <th>Total Count</th>\n",
       "    </tr>\n",
       "  </thead>\n",
       "  <tbody>\n",
       "    <tr>\n",
       "      <th>Male</th>\n",
       "      <td>0.811538</td>\n",
       "      <td>633</td>\n",
       "    </tr>\n",
       "    <tr>\n",
       "      <th>Female</th>\n",
       "      <td>0.174359</td>\n",
       "      <td>136</td>\n",
       "    </tr>\n",
       "    <tr>\n",
       "      <th>Other / Non-Disclosed</th>\n",
       "      <td>0.014103</td>\n",
       "      <td>11</td>\n",
       "    </tr>\n",
       "  </tbody>\n",
       "</table>\n",
       "</div>"
      ],
      "text/plain": [
       "                       Percentage of Players  Total Count\n",
       "Male                                0.811538          633\n",
       "Female                              0.174359          136\n",
       "Other / Non-Disclosed               0.014103           11"
      ]
     },
     "execution_count": 416,
     "metadata": {},
     "output_type": "execute_result"
    }
   ],
   "source": [
    "# Create data frame for gender demographics\n",
    "gender_demographics_df = pd.DataFrame({\"Percentage of Players\":gender_percentage, \"Total Count\":gender_count})\n",
    "gender_demographics_df"
   ]
  },
  {
   "cell_type": "code",
   "execution_count": 417,
   "metadata": {
    "collapsed": true
   },
   "outputs": [],
   "source": [
    "# Find purchase count, average purchase price, total purchase value and normalized totals for males\n",
    "male_df = df.loc[df['Gender'] == 'Male']\n",
    "\n",
    "\n",
    "unique_males = male_df['Gender'].value_counts()\n",
    "male_total_purchases = male_df['Item Name'].count()\n",
    "male_average_price = male_df['Price'].mean()\n",
    "male_total_revenue = male_df['Price'].sum()\n",
    "normalized_males = male_total_revenue / unique_males"
   ]
  },
  {
   "cell_type": "code",
   "execution_count": 418,
   "metadata": {
    "collapsed": true
   },
   "outputs": [],
   "source": [
    "#Find purchase count, average purchase price, total purchase value and normalized totals for females\n",
    "female_df = df.loc[df['Gender'] == 'Female']\n",
    "\n",
    "unique_females = female_df['Gender'].value_counts()\n",
    "female_total_purchases = female_df['Item Name'].count()\n",
    "female_average_price = female_df['Price'].mean()\n",
    "female_total_revenue = female_df['Price'].sum()\n",
    "normalized_females = female_total_revenue / unique_females"
   ]
  },
  {
   "cell_type": "code",
   "execution_count": 419,
   "metadata": {
    "collapsed": true
   },
   "outputs": [],
   "source": [
    "# Find purchase count, average purchase price, total purchase value and normalized totals for other / non-disclosed\n",
    "other_df = df.loc[df['Gender'] == 'Other / Non-Disclosed']\n",
    "\n",
    "unique_others = other_df['Gender'].value_counts()\n",
    "other_total_purchases = other_df['Item Name'].count()\n",
    "other_average_price = other_df['Price'].mean()\n",
    "other_total_revenue = other_df['Price'].sum()\n",
    "normalized_others = female_total_revenue / unique_others"
   ]
  },
  {
   "cell_type": "code",
   "execution_count": 420,
   "metadata": {},
   "outputs": [
    {
     "data": {
      "text/html": [
       "<div>\n",
       "<style>\n",
       "    .dataframe thead tr:only-child th {\n",
       "        text-align: right;\n",
       "    }\n",
       "\n",
       "    .dataframe thead th {\n",
       "        text-align: left;\n",
       "    }\n",
       "\n",
       "    .dataframe tbody tr th {\n",
       "        vertical-align: top;\n",
       "    }\n",
       "</style>\n",
       "<table border=\"1\" class=\"dataframe\">\n",
       "  <thead>\n",
       "    <tr style=\"text-align: right;\">\n",
       "      <th></th>\n",
       "      <th>Gender</th>\n",
       "      <th>Mean Purchase Price</th>\n",
       "      <th>Normalized Total</th>\n",
       "      <th>Purchase Count</th>\n",
       "      <th>Revenue Total</th>\n",
       "    </tr>\n",
       "  </thead>\n",
       "  <tbody>\n",
       "    <tr>\n",
       "      <th>0</th>\n",
       "      <td>Male</td>\n",
       "      <td>2.950521</td>\n",
       "      <td>Male    2.950521\n",
       "Name: Gender, dtype: float64</td>\n",
       "      <td>633</td>\n",
       "      <td>1867.68</td>\n",
       "    </tr>\n",
       "    <tr>\n",
       "      <th>1</th>\n",
       "      <td>Female</td>\n",
       "      <td>2.815515</td>\n",
       "      <td>Female    2.815515\n",
       "Name: Gender, dtype: float64</td>\n",
       "      <td>136</td>\n",
       "      <td>382.91</td>\n",
       "    </tr>\n",
       "    <tr>\n",
       "      <th>2</th>\n",
       "      <td>Other</td>\n",
       "      <td>3.249091</td>\n",
       "      <td>Other / Non-Disclosed    34.81\n",
       "Name: Gender, d...</td>\n",
       "      <td>11</td>\n",
       "      <td>35.74</td>\n",
       "    </tr>\n",
       "  </tbody>\n",
       "</table>\n",
       "</div>"
      ],
      "text/plain": [
       "   Gender  Mean Purchase Price  \\\n",
       "0    Male             2.950521   \n",
       "1  Female             2.815515   \n",
       "2   Other             3.249091   \n",
       "\n",
       "                                    Normalized Total  Purchase Count  \\\n",
       "0      Male    2.950521\n",
       "Name: Gender, dtype: float64             633   \n",
       "1    Female    2.815515\n",
       "Name: Gender, dtype: float64             136   \n",
       "2  Other / Non-Disclosed    34.81\n",
       "Name: Gender, d...              11   \n",
       "\n",
       "   Revenue Total  \n",
       "0        1867.68  \n",
       "1         382.91  \n",
       "2          35.74  "
      ]
     },
     "execution_count": 420,
     "metadata": {},
     "output_type": "execute_result"
    }
   ],
   "source": [
    "#Create data frame for purchasing analysis by gender\n",
    "gender_purchasing_df = pd.DataFrame({\"Gender\": [\"Male\", \"Female\", \"Other\"], \"Revenue Total\":[male_total_revenue, female_total_revenue, other_total_revenue], \"Purchase Count\": [male_total_purchases, female_total_purchases, other_total_purchases], \"Mean Purchase Price\": [male_average_price, female_average_price, other_average_price], \"Normalized Total\": [normalized_males, normalized_females, normalized_others]})\n",
    "gender_purchasing_df"
   ]
  },
  {
   "cell_type": "code",
   "execution_count": 421,
   "metadata": {},
   "outputs": [
    {
     "name": "stdout",
     "output_type": "stream",
     "text": [
      "45\n",
      "7\n"
     ]
    }
   ],
   "source": [
    "#Find min and max ages to determine bins\n",
    "print(df['Age'].max())\n",
    "print(df['Age'].min())\n"
   ]
  },
  {
   "cell_type": "code",
   "execution_count": 422,
   "metadata": {},
   "outputs": [
    {
     "data": {
      "text/plain": [
       "0    35 to 40\n",
       "1    20 to 25\n",
       "2    30 to 35\n",
       "3    20 to 25\n",
       "4    20 to 25\n",
       "Name: Age, dtype: category\n",
       "Categories (8, object): [5 to 10 < 10 to 15 < 15 to 20 < 20 to 25 < 25 to 30 < 30 to 35 < 35 to 40 < 40 to 45]"
      ]
     },
     "execution_count": 422,
     "metadata": {},
     "output_type": "execute_result"
    }
   ],
   "source": [
    "# Create the bins in which the data will be held\n",
    "\n",
    "# Bins are 5-10, 10-14, 15-19, 20-24, 25-29, 30-34, 35-39, 40-45\n",
    "bins = [5,10,15,20,25,30,35,40,45]\n",
    "\n",
    "# Create labers for these bins\n",
    "group_labels= [\"5 to 10\", \"10 to 15\", \"15 to 20\", \"20 to 25\", \"25 to 30\", \"30 to 35\", \"35 to 40\", \"40 to 45\"]\n",
    "\n",
    "# Slice the data and place it into bins\n",
    "pd.cut(df[\"Age\"], bins, labels= group_labels).head()\n"
   ]
  },
  {
   "cell_type": "code",
   "execution_count": 423,
   "metadata": {},
   "outputs": [],
   "source": [
    "# Insert 'Age Group' column into data frame\n",
    "df[\"Age Group\"] = pd.cut(df[\"Age\"], bins, labels = group_labels)"
   ]
  },
  {
   "cell_type": "code",
   "execution_count": 424,
   "metadata": {},
   "outputs": [],
   "source": [
    "# Create a GroupBy object based upon \"Age\"\n",
    "gamer_group = df.groupby(\"Age Group\")\n",
    "grouped_gamer_count = gamer_group[\"Age\"].count()\n",
    "grouped_gamer_percentage = grouped_gamer_count / total_purchases\n",
    "\n",
    "\n",
    "\n"
   ]
  },
  {
   "cell_type": "code",
   "execution_count": 425,
   "metadata": {},
   "outputs": [
    {
     "data": {
      "text/html": [
       "<div>\n",
       "<style>\n",
       "    .dataframe thead tr:only-child th {\n",
       "        text-align: right;\n",
       "    }\n",
       "\n",
       "    .dataframe thead th {\n",
       "        text-align: left;\n",
       "    }\n",
       "\n",
       "    .dataframe tbody tr th {\n",
       "        vertical-align: top;\n",
       "    }\n",
       "</style>\n",
       "<table border=\"1\" class=\"dataframe\">\n",
       "  <thead>\n",
       "    <tr style=\"text-align: right;\">\n",
       "      <th></th>\n",
       "      <th>Percentage of Players</th>\n",
       "      <th>Total Count</th>\n",
       "    </tr>\n",
       "    <tr>\n",
       "      <th>Age Group</th>\n",
       "      <th></th>\n",
       "      <th></th>\n",
       "    </tr>\n",
       "  </thead>\n",
       "  <tbody>\n",
       "    <tr>\n",
       "      <th>5 to 10</th>\n",
       "      <td>0.041026</td>\n",
       "      <td>32</td>\n",
       "    </tr>\n",
       "    <tr>\n",
       "      <th>10 to 15</th>\n",
       "      <td>0.100000</td>\n",
       "      <td>78</td>\n",
       "    </tr>\n",
       "    <tr>\n",
       "      <th>15 to 20</th>\n",
       "      <td>0.235897</td>\n",
       "      <td>184</td>\n",
       "    </tr>\n",
       "    <tr>\n",
       "      <th>20 to 25</th>\n",
       "      <td>0.391026</td>\n",
       "      <td>305</td>\n",
       "    </tr>\n",
       "    <tr>\n",
       "      <th>25 to 30</th>\n",
       "      <td>0.097436</td>\n",
       "      <td>76</td>\n",
       "    </tr>\n",
       "    <tr>\n",
       "      <th>30 to 35</th>\n",
       "      <td>0.074359</td>\n",
       "      <td>58</td>\n",
       "    </tr>\n",
       "    <tr>\n",
       "      <th>35 to 40</th>\n",
       "      <td>0.056410</td>\n",
       "      <td>44</td>\n",
       "    </tr>\n",
       "    <tr>\n",
       "      <th>40 to 45</th>\n",
       "      <td>0.003846</td>\n",
       "      <td>3</td>\n",
       "    </tr>\n",
       "  </tbody>\n",
       "</table>\n",
       "</div>"
      ],
      "text/plain": [
       "           Percentage of Players  Total Count\n",
       "Age Group                                    \n",
       "5 to 10                 0.041026           32\n",
       "10 to 15                0.100000           78\n",
       "15 to 20                0.235897          184\n",
       "20 to 25                0.391026          305\n",
       "25 to 30                0.097436           76\n",
       "30 to 35                0.074359           58\n",
       "35 to 40                0.056410           44\n",
       "40 to 45                0.003846            3"
      ]
     },
     "execution_count": 425,
     "metadata": {},
     "output_type": "execute_result"
    }
   ],
   "source": [
    "# Create a data frame showing the percentage of players and total count of each age group\n",
    "age_demo_df = pd.DataFrame({\"Percentage of Players\":grouped_gamer_percentage, \"Total Count\": grouped_gamer_count})\n",
    "age_demo_df"
   ]
  },
  {
   "cell_type": "code",
   "execution_count": 426,
   "metadata": {},
   "outputs": [],
   "source": [
    "# Find out the purchase count, average purchase price, total purchase value, and normalized totals for each age demographic\n",
    "unique_grouped = gamer_group[\"SN\"].value_counts()\n",
    "grouped_purchase_count = gamer_group[\"Item ID\"].count()\n",
    "grouped_average_price = gamer_group[\"Price\"].mean()\n",
    "grouped_total_revenue = gamer_group[\"Price\"].sum()\n",
    "grouped_normalized_total = grouped_total_revenue / unique_grouped"
   ]
  },
  {
   "cell_type": "code",
   "execution_count": 427,
   "metadata": {},
   "outputs": [
    {
     "data": {
      "text/html": [
       "<div>\n",
       "<style>\n",
       "    .dataframe thead tr:only-child th {\n",
       "        text-align: right;\n",
       "    }\n",
       "\n",
       "    .dataframe thead th {\n",
       "        text-align: left;\n",
       "    }\n",
       "\n",
       "    .dataframe tbody tr th {\n",
       "        vertical-align: top;\n",
       "    }\n",
       "</style>\n",
       "<table border=\"1\" class=\"dataframe\">\n",
       "  <thead>\n",
       "    <tr style=\"text-align: right;\">\n",
       "      <th></th>\n",
       "      <th>Average Purchase Price</th>\n",
       "      <th>Purchase Count</th>\n",
       "      <th>Total Purchase Value</th>\n",
       "    </tr>\n",
       "    <tr>\n",
       "      <th>Age Group</th>\n",
       "      <th></th>\n",
       "      <th></th>\n",
       "      <th></th>\n",
       "    </tr>\n",
       "  </thead>\n",
       "  <tbody>\n",
       "    <tr>\n",
       "      <th>5 to 10</th>\n",
       "      <td>3.019375</td>\n",
       "      <td>32</td>\n",
       "      <td>96.62</td>\n",
       "    </tr>\n",
       "    <tr>\n",
       "      <th>10 to 15</th>\n",
       "      <td>2.873718</td>\n",
       "      <td>78</td>\n",
       "      <td>224.15</td>\n",
       "    </tr>\n",
       "    <tr>\n",
       "      <th>15 to 20</th>\n",
       "      <td>2.873587</td>\n",
       "      <td>184</td>\n",
       "      <td>528.74</td>\n",
       "    </tr>\n",
       "    <tr>\n",
       "      <th>20 to 25</th>\n",
       "      <td>2.959377</td>\n",
       "      <td>305</td>\n",
       "      <td>902.61</td>\n",
       "    </tr>\n",
       "    <tr>\n",
       "      <th>25 to 30</th>\n",
       "      <td>2.892368</td>\n",
       "      <td>76</td>\n",
       "      <td>219.82</td>\n",
       "    </tr>\n",
       "    <tr>\n",
       "      <th>30 to 35</th>\n",
       "      <td>3.073448</td>\n",
       "      <td>58</td>\n",
       "      <td>178.26</td>\n",
       "    </tr>\n",
       "    <tr>\n",
       "      <th>35 to 40</th>\n",
       "      <td>2.897500</td>\n",
       "      <td>44</td>\n",
       "      <td>127.49</td>\n",
       "    </tr>\n",
       "    <tr>\n",
       "      <th>40 to 45</th>\n",
       "      <td>2.880000</td>\n",
       "      <td>3</td>\n",
       "      <td>8.64</td>\n",
       "    </tr>\n",
       "  </tbody>\n",
       "</table>\n",
       "</div>"
      ],
      "text/plain": [
       "           Average Purchase Price  Purchase Count  Total Purchase Value\n",
       "Age Group                                                              \n",
       "5 to 10                  3.019375              32                 96.62\n",
       "10 to 15                 2.873718              78                224.15\n",
       "15 to 20                 2.873587             184                528.74\n",
       "20 to 25                 2.959377             305                902.61\n",
       "25 to 30                 2.892368              76                219.82\n",
       "30 to 35                 3.073448              58                178.26\n",
       "35 to 40                 2.897500              44                127.49\n",
       "40 to 45                 2.880000               3                  8.64"
      ]
     },
     "execution_count": 427,
     "metadata": {},
     "output_type": "execute_result"
    }
   ],
   "source": [
    "# Create data frame for purchasing analysis by age group\n",
    "grouped_gamers_df = pd.DataFrame({\"Purchase Count\":grouped_purchase_count, \"Average Purchase Price\": grouped_average_price, \"Total Purchase Value\":grouped_total_revenue}) \n",
    "grouped_gamers_df"
   ]
  },
  {
   "cell_type": "code",
   "execution_count": 428,
   "metadata": {
    "collapsed": true
   },
   "outputs": [],
   "source": [
    "#Find out the purchase count, average purchase price, revenue total for the top spenders \n",
    "sn_total = df.groupby(['SN']).sum()[\"Price\"]\n",
    "top_spenders_df = pd.DataFrame\n",
    "sn_count = df.groupby(['SN']).count()[\"Item Name\"]\n",
    "sn_average = df.groupby(['SN']).mean()[\"Price\"]"
   ]
  },
  {
   "cell_type": "code",
   "execution_count": 429,
   "metadata": {},
   "outputs": [
    {
     "data": {
      "text/html": [
       "<div>\n",
       "<style>\n",
       "    .dataframe thead tr:only-child th {\n",
       "        text-align: right;\n",
       "    }\n",
       "\n",
       "    .dataframe thead th {\n",
       "        text-align: left;\n",
       "    }\n",
       "\n",
       "    .dataframe tbody tr th {\n",
       "        vertical-align: top;\n",
       "    }\n",
       "</style>\n",
       "<table border=\"1\" class=\"dataframe\">\n",
       "  <thead>\n",
       "    <tr style=\"text-align: right;\">\n",
       "      <th></th>\n",
       "      <th>Average Purchase Price</th>\n",
       "      <th>Purchase Count</th>\n",
       "      <th>Revenue Total</th>\n",
       "    </tr>\n",
       "    <tr>\n",
       "      <th>SN</th>\n",
       "      <th></th>\n",
       "      <th></th>\n",
       "      <th></th>\n",
       "    </tr>\n",
       "  </thead>\n",
       "  <tbody>\n",
       "    <tr>\n",
       "      <th>Undirrala66</th>\n",
       "      <td>3.412000</td>\n",
       "      <td>5</td>\n",
       "      <td>17.06</td>\n",
       "    </tr>\n",
       "    <tr>\n",
       "      <th>Saedue76</th>\n",
       "      <td>3.390000</td>\n",
       "      <td>4</td>\n",
       "      <td>13.56</td>\n",
       "    </tr>\n",
       "    <tr>\n",
       "      <th>Mindimnya67</th>\n",
       "      <td>3.185000</td>\n",
       "      <td>4</td>\n",
       "      <td>12.74</td>\n",
       "    </tr>\n",
       "    <tr>\n",
       "      <th>Haellysu29</th>\n",
       "      <td>4.243333</td>\n",
       "      <td>3</td>\n",
       "      <td>12.73</td>\n",
       "    </tr>\n",
       "    <tr>\n",
       "      <th>Eoda93</th>\n",
       "      <td>3.860000</td>\n",
       "      <td>3</td>\n",
       "      <td>11.58</td>\n",
       "    </tr>\n",
       "  </tbody>\n",
       "</table>\n",
       "</div>"
      ],
      "text/plain": [
       "             Average Purchase Price  Purchase Count  Revenue Total\n",
       "SN                                                                \n",
       "Undirrala66                3.412000               5          17.06\n",
       "Saedue76                   3.390000               4          13.56\n",
       "Mindimnya67                3.185000               4          12.74\n",
       "Haellysu29                 4.243333               3          12.73\n",
       "Eoda93                     3.860000               3          11.58"
      ]
     },
     "execution_count": 429,
     "metadata": {},
     "output_type": "execute_result"
    }
   ],
   "source": [
    "# Create data frame showing the top spender's screen name, average purchase price, purchase count, and revenue total\n",
    "top_spenders_df = pd.DataFrame({\"Revenue Total\":sn_total, \"Purchase Count\": sn_count, \"Average Purchase Price\": sn_average})\n",
    "top_spenders_df.sort_values(\"Revenue Total\", ascending=False).head()"
   ]
  },
  {
   "cell_type": "code",
   "execution_count": 430,
   "metadata": {},
   "outputs": [],
   "source": [
    "#Find out the purchase count, total purchase value for the top selling items\n",
    "item_revenue = df.groupby([\"Item ID\", \"Item Name\"]).sum()[\"Price\"]\n",
    "item_purchase_count = df.groupby([\"Item ID\", \"Item Name\"]).count()[\"Price\"]\n",
    "\n",
    "\n"
   ]
  },
  {
   "cell_type": "code",
   "execution_count": 431,
   "metadata": {
    "scrolled": true
   },
   "outputs": [
    {
     "data": {
      "text/html": [
       "<div>\n",
       "<style>\n",
       "    .dataframe thead tr:only-child th {\n",
       "        text-align: right;\n",
       "    }\n",
       "\n",
       "    .dataframe thead th {\n",
       "        text-align: left;\n",
       "    }\n",
       "\n",
       "    .dataframe tbody tr th {\n",
       "        vertical-align: top;\n",
       "    }\n",
       "</style>\n",
       "<table border=\"1\" class=\"dataframe\">\n",
       "  <thead>\n",
       "    <tr style=\"text-align: right;\">\n",
       "      <th></th>\n",
       "      <th></th>\n",
       "      <th>Purchase Count</th>\n",
       "      <th>Total Purchase Value</th>\n",
       "    </tr>\n",
       "    <tr>\n",
       "      <th>Item ID</th>\n",
       "      <th>Item Name</th>\n",
       "      <th></th>\n",
       "      <th></th>\n",
       "    </tr>\n",
       "  </thead>\n",
       "  <tbody>\n",
       "    <tr>\n",
       "      <th>39</th>\n",
       "      <th>Betrayal, Whisper of Grieving Widows</th>\n",
       "      <td>11</td>\n",
       "      <td>25.85</td>\n",
       "    </tr>\n",
       "    <tr>\n",
       "      <th>84</th>\n",
       "      <th>Arcane Gem</th>\n",
       "      <td>11</td>\n",
       "      <td>24.53</td>\n",
       "    </tr>\n",
       "    <tr>\n",
       "      <th>31</th>\n",
       "      <th>Trickster</th>\n",
       "      <td>9</td>\n",
       "      <td>18.63</td>\n",
       "    </tr>\n",
       "    <tr>\n",
       "      <th>175</th>\n",
       "      <th>Woeful Adamantite Claymore</th>\n",
       "      <td>9</td>\n",
       "      <td>11.16</td>\n",
       "    </tr>\n",
       "    <tr>\n",
       "      <th>13</th>\n",
       "      <th>Serenity</th>\n",
       "      <td>9</td>\n",
       "      <td>13.41</td>\n",
       "    </tr>\n",
       "  </tbody>\n",
       "</table>\n",
       "</div>"
      ],
      "text/plain": [
       "                                              Purchase Count  \\\n",
       "Item ID Item Name                                              \n",
       "39      Betrayal, Whisper of Grieving Widows              11   \n",
       "84      Arcane Gem                                        11   \n",
       "31      Trickster                                          9   \n",
       "175     Woeful Adamantite Claymore                         9   \n",
       "13      Serenity                                           9   \n",
       "\n",
       "                                              Total Purchase Value  \n",
       "Item ID Item Name                                                   \n",
       "39      Betrayal, Whisper of Grieving Widows                 25.85  \n",
       "84      Arcane Gem                                           24.53  \n",
       "31      Trickster                                            18.63  \n",
       "175     Woeful Adamantite Claymore                           11.16  \n",
       "13      Serenity                                             13.41  "
      ]
     },
     "execution_count": 431,
     "metadata": {},
     "output_type": "execute_result"
    }
   ],
   "source": [
    "id_total_revenue = df.groupby([\"Item ID\", \"Item Name\"]).sum()[\"Price\"]\n",
    "popular_items_df = pd.DataFrame({\"Purchase Count\":item_purchase_count, \"Total Purchase Value\":item_revenue})\n",
    "popular_items_df.sort_values(\"Purchase Count\", ascending=False).head()\n"
   ]
  }
 ],
 "metadata": {
  "kernelspec": {
   "display_name": "Python 3",
   "language": "python",
   "name": "python3"
  },
  "language_info": {
   "codemirror_mode": {
    "name": "ipython",
    "version": 3
   },
   "file_extension": ".py",
   "mimetype": "text/x-python",
   "name": "python",
   "nbconvert_exporter": "python",
   "pygments_lexer": "ipython3",
   "version": "3.6.3"
  }
 },
 "nbformat": 4,
 "nbformat_minor": 2
}
